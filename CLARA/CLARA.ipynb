{
 "cells": [
  {
   "cell_type": "code",
   "execution_count": 71,
   "metadata": {},
   "outputs": [],
   "source": [
    "import pandas as pd\n",
    "import numpy as np\n",
    "import math\n",
    "import random as rd\n",
    "import matplotlib.pyplot as plt"
   ]
  },
  {
   "cell_type": "code",
   "execution_count": 95,
   "metadata": {
    "scrolled": true
   },
   "outputs": [
    {
     "data": {
      "text/html": [
       "<div>\n",
       "<style scoped>\n",
       "    .dataframe tbody tr th:only-of-type {\n",
       "        vertical-align: middle;\n",
       "    }\n",
       "\n",
       "    .dataframe tbody tr th {\n",
       "        vertical-align: top;\n",
       "    }\n",
       "\n",
       "    .dataframe thead th {\n",
       "        text-align: right;\n",
       "    }\n",
       "</style>\n",
       "<table border=\"1\" class=\"dataframe\">\n",
       "  <thead>\n",
       "    <tr style=\"text-align: right;\">\n",
       "      <th></th>\n",
       "      <th>col1</th>\n",
       "      <th>col2</th>\n",
       "    </tr>\n",
       "  </thead>\n",
       "  <tbody>\n",
       "    <tr>\n",
       "      <td>0</td>\n",
       "      <td>5</td>\n",
       "      <td>13</td>\n",
       "    </tr>\n",
       "    <tr>\n",
       "      <td>1</td>\n",
       "      <td>75</td>\n",
       "      <td>12</td>\n",
       "    </tr>\n",
       "    <tr>\n",
       "      <td>2</td>\n",
       "      <td>34</td>\n",
       "      <td>83</td>\n",
       "    </tr>\n",
       "    <tr>\n",
       "      <td>3</td>\n",
       "      <td>98</td>\n",
       "      <td>31</td>\n",
       "    </tr>\n",
       "    <tr>\n",
       "      <td>4</td>\n",
       "      <td>34</td>\n",
       "      <td>45</td>\n",
       "    </tr>\n",
       "  </tbody>\n",
       "</table>\n",
       "</div>"
      ],
      "text/plain": [
       "   col1  col2\n",
       "0     5    13\n",
       "1    75    12\n",
       "2    34    83\n",
       "3    98    31\n",
       "4    34    45"
      ]
     },
     "execution_count": 95,
     "metadata": {},
     "output_type": "execute_result"
    }
   ],
   "source": [
    "data=[]\n",
    "for i in range(200):\n",
    "    data.append(np.random.randint(low=1, high=100, size=2))\n",
    "data = pd.DataFrame(data)\n",
    "data.columns =['col1','col2']\n",
    "data.head()"
   ]
  },
  {
   "cell_type": "code",
   "execution_count": 96,
   "metadata": {},
   "outputs": [
    {
     "name": "stdout",
     "output_type": "stream",
     "text": [
      "enter value of k4\n",
      "enter value of t15\n"
     ]
    }
   ],
   "source": [
    "k=int(input('enter value of k'))\n",
    "t=int(input('enter value of t'))"
   ]
  },
  {
   "cell_type": "code",
   "execution_count": 97,
   "metadata": {},
   "outputs": [],
   "source": [
    "initial= rd.sample([i for i in range(len(data))], k)\n"
   ]
  },
  {
   "cell_type": "code",
   "execution_count": 98,
   "metadata": {},
   "outputs": [],
   "source": [
    "def distance(kmid,d):\n",
    "    dist=[]\n",
    "    for i in kmid:\n",
    "        q=[]\n",
    "        for j in range(len(d)):\n",
    "            p=d.iloc[j:j+1].values\n",
    "            p=p[0]\n",
    "            dis=0            \n",
    "            for l in range(len(p)):\n",
    "                dis=dis+abs(i[l]-p[l])\n",
    "            q.append(dis)\n",
    "        dist.append(q)\n",
    "    return dist\n",
    "\n",
    "def cost(dis_matrix):\n",
    "    index=[]\n",
    "    cost=[]\n",
    "    for i in range(len(dis_matrix[0])):\n",
    "        temp=[]\n",
    "        for j in range(len(dis_matrix)):\n",
    "            temp.append(dis_matrix[j][i])\n",
    "        index.append(temp.index(min(temp)))\n",
    "        cost.append(min(temp))   \n",
    "    return cost,index"
   ]
  },
  {
   "cell_type": "code",
   "execution_count": 99,
   "metadata": {},
   "outputs": [],
   "source": [
    "# k medoids\n",
    "def pam(x_data,k,t):\n",
    "    cluster=[]\n",
    "    initial= rd.sample([i for i in range(len(x_data))], k)\n",
    "    for i in initial:\n",
    "        p=x_data.iloc[i:i+1].values\n",
    "        p=p[0]\n",
    "        cluster.append(p)\n",
    "    dis_matrix=distance(cluster,x_data)\n",
    "    cost_v,index=cost(dis_matrix)\n",
    "    \n",
    "    for i in range(t):\n",
    "        random_point=rd.randint(0,len(x_data)-1)\n",
    "        random_choice=rd.randint(0,k-1)\n",
    "        new_data=x_data.iloc[random_point:random_point+1].values\n",
    "        new_data=new_data[0]\n",
    "        cluster[random_choice]=new_data\n",
    "        dis_matrix=distance(cluster,x_data)\n",
    "        cost_v1,index1=cost(dis_matrix)\n",
    "        if sum(np.subtract(np.array(cost_v1),np.array(cost_v)))<0:\n",
    "            cost_v=np.copy(np.array(cost_v1))\n",
    "    return sum(cost_v),cluster,index1\n",
    "    "
   ]
  },
  {
   "cell_type": "code",
   "execution_count": 100,
   "metadata": {},
   "outputs": [
    {
     "name": "stdout",
     "output_type": "stream",
     "text": [
      "enter no of sample10\n"
     ]
    }
   ],
   "source": [
    "no_of_sample=int(input('enter no of sample'))"
   ]
  },
  {
   "cell_type": "code",
   "execution_count": 101,
   "metadata": {
    "scrolled": false
   },
   "outputs": [],
   "source": [
    "#clara\n",
    "cost_m=[]\n",
    "index=[]\n",
    "centroid=[]\n",
    "for i in range(no_of_sample):\n",
    "    sample=data.sample(n=int(len(data)/5))\n",
    "    sample=sample.reset_index()\n",
    "    sample=sample.iloc[:,1:len(sample.columns)]\n",
    "    p,mid,ind=pam(sample,k,t)\n",
    "    cost_m.append(p)\n",
    "    centroid.append(mid)\n",
    "    index.append(ind)"
   ]
  },
  {
   "cell_type": "code",
   "execution_count": 102,
   "metadata": {},
   "outputs": [],
   "source": [
    "min_cost=min(cost_m)\n",
    "cluster=centroid[cost_m.index(min_cost)]\n",
    "distanc=distance(cluster,data)\n",
    "cost,index=cost(distanc)"
   ]
  },
  {
   "cell_type": "code",
   "execution_count": 103,
   "metadata": {},
   "outputs": [
    {
     "data": {
      "image/png": "[encoded data removed]",
      "text/plain": [
       "<Figure size 432x288 with 1 Axes>"
      ]
     },
     "metadata": {
      "needs_background": "light"
     },
     "output_type": "display_data"
    }
   ],
   "source": [
    "for i in range(len(data)):\n",
    "    x=data.iloc[i:i+1,0:1].values\n",
    "    y=data.iloc[i:i+1,1:2].values\n",
    "    plt.scatter(x[0], y[0], c='r', label='data')\n",
    "plt.show()"
   ]
  },
  {
   "cell_type": "code",
   "execution_count": 104,
   "metadata": {
    "scrolled": false
   },
   "outputs": [
    {
     "data": {
      "image/png": "[encoded data removed]",
      "text/plain": [
       "<Figure size 432x288 with 1 Axes>"
      ]
     },
     "metadata": {
      "needs_background": "light"
     },
     "output_type": "display_data"
    }
   ],
   "source": [
    "color=['red','blue','yellow','green','cyan','purple']\n",
    "for i in range(len(data)):\n",
    "    x=data.iloc[i:i+1,0:1].values\n",
    "    y=data.iloc[i:i+1,1:2].values\n",
    "    plt.scatter(x[0], y[0], color=color[index[i]])\n",
    "plt.show()"
   ]
  },
  {
   "cell_type": "code",
   "execution_count": null,
   "metadata": {},
   "outputs": [],
   "source": []
  }
 ],
 "metadata": {
  "kernelspec": {
   "display_name": "Python 3",
   "language": "python",
   "name": "python3"
  },
  "language_info": {
   "codemirror_mode": {
    "name": "ipython",
    "version": 3
   },
   "file_extension": ".py",
   "mimetype": "text/x-python",
   "name": "python",
   "nbconvert_exporter": "python",
   "pygments_lexer": "ipython3",
   "version": "3.7.4"
  }
 },
 "nbformat": 4,
 "nbformat_minor": 2
}
