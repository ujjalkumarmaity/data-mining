{
 "cells": [
  {
   "cell_type": "code",
   "execution_count": 1,
   "metadata": {},
   "outputs": [],
   "source": [
    "import pandas as pd\n",
    "import numpy as np\n",
    "import matplotlib.pyplot as plt\n",
    "import math\n",
    "import random as rd\n"
   ]
  },
  {
   "cell_type": "code",
   "execution_count": 124,
   "metadata": {
    "scrolled": true
   },
   "outputs": [
    {
     "data": {
      "text/html": [
       "<div>\n",
       "<style scoped>\n",
       "    .dataframe tbody tr th:only-of-type {\n",
       "        vertical-align: middle;\n",
       "    }\n",
       "\n",
       "    .dataframe tbody tr th {\n",
       "        vertical-align: top;\n",
       "    }\n",
       "\n",
       "    .dataframe thead th {\n",
       "        text-align: right;\n",
       "    }\n",
       "</style>\n",
       "<table border=\"1\" class=\"dataframe\">\n",
       "  <thead>\n",
       "    <tr style=\"text-align: right;\">\n",
       "      <th></th>\n",
       "      <th>col1</th>\n",
       "      <th>col2</th>\n",
       "    </tr>\n",
       "  </thead>\n",
       "  <tbody>\n",
       "    <tr>\n",
       "      <th>0</th>\n",
       "      <td>4</td>\n",
       "      <td>5</td>\n",
       "    </tr>\n",
       "    <tr>\n",
       "      <th>1</th>\n",
       "      <td>1</td>\n",
       "      <td>6</td>\n",
       "    </tr>\n",
       "    <tr>\n",
       "      <th>2</th>\n",
       "      <td>5</td>\n",
       "      <td>9</td>\n",
       "    </tr>\n",
       "    <tr>\n",
       "      <th>3</th>\n",
       "      <td>9</td>\n",
       "      <td>4</td>\n",
       "    </tr>\n",
       "    <tr>\n",
       "      <th>4</th>\n",
       "      <td>7</td>\n",
       "      <td>7</td>\n",
       "    </tr>\n",
       "    <tr>\n",
       "      <th>5</th>\n",
       "      <td>2</td>\n",
       "      <td>2</td>\n",
       "    </tr>\n",
       "    <tr>\n",
       "      <th>6</th>\n",
       "      <td>8</td>\n",
       "      <td>4</td>\n",
       "    </tr>\n",
       "    <tr>\n",
       "      <th>7</th>\n",
       "      <td>1</td>\n",
       "      <td>1</td>\n",
       "    </tr>\n",
       "    <tr>\n",
       "      <th>8</th>\n",
       "      <td>3</td>\n",
       "      <td>4</td>\n",
       "    </tr>\n",
       "    <tr>\n",
       "      <th>9</th>\n",
       "      <td>9</td>\n",
       "      <td>3</td>\n",
       "    </tr>\n",
       "    <tr>\n",
       "      <th>10</th>\n",
       "      <td>9</td>\n",
       "      <td>2</td>\n",
       "    </tr>\n",
       "    <tr>\n",
       "      <th>11</th>\n",
       "      <td>7</td>\n",
       "      <td>2</td>\n",
       "    </tr>\n",
       "    <tr>\n",
       "      <th>12</th>\n",
       "      <td>9</td>\n",
       "      <td>7</td>\n",
       "    </tr>\n",
       "    <tr>\n",
       "      <th>13</th>\n",
       "      <td>6</td>\n",
       "      <td>2</td>\n",
       "    </tr>\n",
       "    <tr>\n",
       "      <th>14</th>\n",
       "      <td>1</td>\n",
       "      <td>3</td>\n",
       "    </tr>\n",
       "  </tbody>\n",
       "</table>\n",
       "</div>"
      ],
      "text/plain": [
       "    col1  col2\n",
       "0      4     5\n",
       "1      1     6\n",
       "2      5     9\n",
       "3      9     4\n",
       "4      7     7\n",
       "5      2     2\n",
       "6      8     4\n",
       "7      1     1\n",
       "8      3     4\n",
       "9      9     3\n",
       "10     9     2\n",
       "11     7     2\n",
       "12     9     7\n",
       "13     6     2\n",
       "14     1     3"
      ]
     },
     "execution_count": 124,
     "metadata": {},
     "output_type": "execute_result"
    }
   ],
   "source": [
    "data=[]\n",
    "for i in range(15):\n",
    "    data.append(np.random.randint(low=1, high=10, size=2))\n",
    "data = pd.DataFrame(data)\n",
    "data.columns =['col1','col2']\n",
    "data"
   ]
  },
  {
   "cell_type": "code",
   "execution_count": 125,
   "metadata": {},
   "outputs": [],
   "source": [
    "#data=[[1,1],[1.5,1.5],[5,5],[3,4],[4,4],[3,3.5]]\n",
    "#data=pd.DataFrame(data)\n",
    "#data"
   ]
  },
  {
   "cell_type": "code",
   "execution_count": 126,
   "metadata": {},
   "outputs": [],
   "source": [
    "def distance(x,y):\n",
    "    x=x[0]\n",
    "    y=y[0]\n",
    "    dis=0    \n",
    "    for i in range(len(x)):\n",
    "        dis+=(x[i]-y[i])**2\n",
    "    return math.sqrt(dis)\n",
    "def minimum_ele(d_matrix):\n",
    "    min_list=[]\n",
    "    for i in range(len(d_matrix)):\n",
    "        temp=[]\n",
    "        for j in range(len(d_matrix)):\n",
    "            if i!=j:\n",
    "                if d_matrix[i][j]==0:\n",
    "                    return i,j\n",
    "                temp.append(d_matrix[i][j])\n",
    "        min_list.append(min(temp))\n",
    "    row=min_list.index(min(min_list))\n",
    "    col=d_matrix[row].index(min(min_list))   \n",
    "    return row,col\n"
   ]
  },
  {
   "cell_type": "code",
   "execution_count": 127,
   "metadata": {
    "scrolled": false
   },
   "outputs": [
    {
     "name": "stdout",
     "output_type": "stream",
     "text": [
      "[[0], [1], [2], [3, 6], [4], [5], [7], [8], [9], [10], [11], [12], [13], [14]]\n",
      "[[0], [1], [2], [3, 6, 9], [4], [5], [7], [8], [10], [11], [12], [13], [14]]\n",
      "[[0], [1], [2], [3, 6, 9, 10], [4], [5], [7], [8], [11], [12], [13], [14]]\n",
      "[[0], [1], [2], [3, 6, 9, 10], [4], [5], [7], [8], [11], [12, 13], [14]]\n",
      "[[0], [1], [2], [3, 6, 9, 10], [4], [5], [7], [8], [11, 12, 13], [14]]\n",
      "[[0], [1], [2], [3, 6, 9, 10], [4], [5, 8], [7], [11, 12, 13], [14]]\n",
      "[[0, 5, 8], [1], [2], [3, 6, 9, 10], [4], [7], [11, 12, 13], [14]]\n",
      "[[0, 5, 8, 7], [1], [2], [3, 6, 9, 10], [4], [11, 12, 13], [14]]\n",
      "[[0, 5, 8, 7, 14], [1], [2], [3, 6, 9, 10], [4], [11, 12, 13]]\n",
      "[[0, 5, 8, 7, 14], [1], [2], [3, 6, 9, 10, 11, 12, 13], [4]]\n",
      "[[0, 5, 8, 7, 14], [1], [2], [3, 6, 9, 10, 11, 12, 13, 4]]\n",
      "[[0, 5, 8, 7, 14, 1], [2], [3, 6, 9, 10, 11, 12, 13, 4]]\n",
      "[[0, 5, 8, 7, 14, 1], [2, 3, 6, 9, 10, 11, 12, 13, 4]]\n"
     ]
    }
   ],
   "source": [
    "cluster=[]\n",
    "c=[]\n",
    "for i in range(len(data)):\n",
    "    c.append([i])\n",
    "while len(c)>2:\n",
    "    dis_matrix=[]\n",
    "    for i in range(len(c)):\n",
    "        temp=[]\n",
    "        for j in range(len(c)):\n",
    "            if i==j:\n",
    "                temp.append(0)\n",
    "            else:\n",
    "                if len(c[i])==len(c[j])==1:\n",
    "                    temp.append(distance(data.iloc[i:i+1,:].values,data.iloc[j:j+1,:].values))                \n",
    "                else:\n",
    "                    t=[]\n",
    "                    p=c[i]\n",
    "                    q=c[j]\n",
    "                    for k in range(len(p)):\n",
    "                        for l in range(len(q)):\n",
    "                            t.append(distance(data.iloc[p[k]:p[k]+1,:].values,data.iloc[q[l]:q[l]+1,:].values))\n",
    "                    temp.append(min(t))\n",
    "        dis_matrix.append(temp)\n",
    "    d_matrix=dis_matrix.copy()\n",
    "    row,col=minimum_ele(d_matrix)   \n",
    "    c[row]=c[row]+c[col]\n",
    "    c.pop(col)\n",
    "    new=c.copy()\n",
    "    cluster.append(new)\n",
    "    print(new)"
   ]
  },
  {
   "cell_type": "code",
   "execution_count": 128,
   "metadata": {},
   "outputs": [
    {
     "data": {
      "image/png": "[encoded data removed]",
      "text/plain": [
       "<Figure size 432x288 with 1 Axes>"
      ]
     },
     "metadata": {
      "needs_background": "light"
     },
     "output_type": "display_data"
    }
   ],
   "source": [
    "\n",
    "for i in range(len(data)):\n",
    "    x=data.iloc[i:i+1,0:1].values\n",
    "    y=data.iloc[i:i+1,1:2].values\n",
    "    plt.scatter(x[0], y[0], c='r', label='data')\n",
    "plt.show()"
   ]
  },
  {
   "cell_type": "code",
   "execution_count": 129,
   "metadata": {},
   "outputs": [
    {
     "name": "stdout",
     "output_type": "stream",
     "text": [
      "enter no of cluster2\n"
     ]
    }
   ],
   "source": [
    "n=int(input('enter no of cluster'))"
   ]
  },
  {
   "cell_type": "code",
   "execution_count": 130,
   "metadata": {},
   "outputs": [
    {
     "data": {
      "image/png": "[encoded data removed]",
      "text/plain": [
       "<Figure size 432x288 with 1 Axes>"
      ]
     },
     "metadata": {
      "needs_background": "light"
     },
     "output_type": "display_data"
    }
   ],
   "source": [
    "color=['red','blue','yellow','green','cyan','purple','magenta','burlywood','chartreuse']\n",
    "c=cluster[-n+1]\n",
    "col=0\n",
    "for i in c:\n",
    "    for j in i:\n",
    "        x=data.iloc[j:j+1,0:1].values\n",
    "        y=data.iloc[j:j+1,1:2].values\n",
    "        x=x[0]\n",
    "        y=y[0]\n",
    "        plt.scatter(x[0], y[0], color=color[col])\n",
    "    col+=1\n",
    "plt.show()"
   ]
  },
  {
   "cell_type": "code",
   "execution_count": null,
   "metadata": {},
   "outputs": [],
   "source": []
  }
 ],
 "metadata": {
  "kernelspec": {
   "display_name": "Python 3",
   "language": "python",
   "name": "python3"
  },
  "language_info": {
   "codemirror_mode": {
    "name": "ipython",
    "version": 3
   },
   "file_extension": ".py",
   "mimetype": "text/x-python",
   "name": "python",
   "nbconvert_exporter": "python",
   "pygments_lexer": "ipython3",
   "version": "3.7.3"
  }
 },
 "nbformat": 4,
 "nbformat_minor": 2
}
