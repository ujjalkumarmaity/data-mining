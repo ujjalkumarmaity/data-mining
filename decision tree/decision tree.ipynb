{
 "cells": [
  {
   "cell_type": "code",
   "execution_count": 1,
   "metadata": {},
   "outputs": [],
   "source": [
    "import pandas as pd\n",
    "import math\n",
    "import numpy as np"
   ]
  },
  {
   "cell_type": "code",
   "execution_count": 2,
   "metadata": {},
   "outputs": [
    {
     "data": {
      "text/html": [
       "<div>\n",
       "<style scoped>\n",
       "    .dataframe tbody tr th:only-of-type {\n",
       "        vertical-align: middle;\n",
       "    }\n",
       "\n",
       "    .dataframe tbody tr th {\n",
       "        vertical-align: top;\n",
       "    }\n",
       "\n",
       "    .dataframe thead th {\n",
       "        text-align: right;\n",
       "    }\n",
       "</style>\n",
       "<table border=\"1\" class=\"dataframe\">\n",
       "  <thead>\n",
       "    <tr style=\"text-align: right;\">\n",
       "      <th></th>\n",
       "      <th>outlook</th>\n",
       "      <th>temp</th>\n",
       "      <th>humidity</th>\n",
       "      <th>windy</th>\n",
       "      <th>play</th>\n",
       "    </tr>\n",
       "  </thead>\n",
       "  <tbody>\n",
       "    <tr>\n",
       "      <td>0</td>\n",
       "      <td>sunny</td>\n",
       "      <td>hot</td>\n",
       "      <td>high</td>\n",
       "      <td>fals</td>\n",
       "      <td>no</td>\n",
       "    </tr>\n",
       "    <tr>\n",
       "      <td>1</td>\n",
       "      <td>sunny</td>\n",
       "      <td>hot</td>\n",
       "      <td>high</td>\n",
       "      <td>tru</td>\n",
       "      <td>no</td>\n",
       "    </tr>\n",
       "    <tr>\n",
       "      <td>2</td>\n",
       "      <td>overcast</td>\n",
       "      <td>hot</td>\n",
       "      <td>high</td>\n",
       "      <td>fals</td>\n",
       "      <td>yes</td>\n",
       "    </tr>\n",
       "    <tr>\n",
       "      <td>3</td>\n",
       "      <td>rainy</td>\n",
       "      <td>mild</td>\n",
       "      <td>high</td>\n",
       "      <td>fals</td>\n",
       "      <td>yes</td>\n",
       "    </tr>\n",
       "    <tr>\n",
       "      <td>4</td>\n",
       "      <td>rainy</td>\n",
       "      <td>cool</td>\n",
       "      <td>normal</td>\n",
       "      <td>fals</td>\n",
       "      <td>yes</td>\n",
       "    </tr>\n",
       "  </tbody>\n",
       "</table>\n",
       "</div>"
      ],
      "text/plain": [
       "    outlook  temp humidity windy play\n",
       "0     sunny   hot     high  fals   no\n",
       "1     sunny   hot     high   tru   no\n",
       "2  overcast   hot     high  fals  yes\n",
       "3     rainy  mild     high  fals  yes\n",
       "4     rainy  cool   normal  fals  yes"
      ]
     },
     "execution_count": 2,
     "metadata": {},
     "output_type": "execute_result"
    }
   ],
   "source": [
    "data=pd.read_csv('tree.csv')\n",
    "data.head()"
   ]
  },
  {
   "cell_type": "code",
   "execution_count": 3,
   "metadata": {},
   "outputs": [],
   "source": [
    "global target\n",
    "target='play'\n",
    "def entropy(df):\n",
    "    en=0\n",
    "    att=df[target].unique()\n",
    "    for i in att:\n",
    "        count=df[target].value_counts()[i]\n",
    "        p=count/len(df)\n",
    "        en+=-p*math.log(p,2)\n",
    "    return en"
   ]
  },
  {
   "cell_type": "code",
   "execution_count": 4,
   "metadata": {},
   "outputs": [],
   "source": [
    "def information_all(df,col):\n",
    "    entopy_s=entropy(df)\n",
    "    gini=0\n",
    "    for i in col:\n",
    "        att=df[i].unique()\n",
    "        gain=0\n",
    "        for j in att:\n",
    "            select=df[df[i]==j]\n",
    "            entrop_v=entropy(select)\n",
    "            gain+=-(len(select)/len(df))*entrop_v\n",
    "        gini_gain=entopy_s+gain\n",
    "        if gini<gini_gain:\n",
    "            gini=gini_gain\n",
    "            column=i\n",
    "    return column"
   ]
  },
  {
   "cell_type": "code",
   "execution_count": 68,
   "metadata": {},
   "outputs": [],
   "source": [
    "def decision_tree(data,node=None):\n",
    "    col=list(data.columns)\n",
    "    col.remove(target)\n",
    "    best=information_all(data,col)\n",
    "    if node==None:\n",
    "        tree={}\n",
    "        tree[best]={}\n",
    "    att=data[best].unique()\n",
    "    for i in att:\n",
    "        select=data[data[best]==i]\n",
    "        uni=select[target].unique()\n",
    "        if len(uni)==1:\n",
    "            tree[best][i]=uni[0]\n",
    "        else:\n",
    "            tree[best][i]=decision_tree(select)\n",
    "    return tree"
   ]
  },
  {
   "cell_type": "code",
   "execution_count": 115,
   "metadata": {},
   "outputs": [
    {
     "data": {
      "text/plain": [
       "{'outlook': {'sunny': {'humidity': {'high': 'no', 'normal': 'yes'}},\n",
       "  'overcast': 'yes',\n",
       "  'rainy': {'windy': {'fals': 'yes', 'tru': 'no'}}}}"
      ]
     },
     "execution_count": 115,
     "metadata": {},
     "output_type": "execute_result"
    }
   ],
   "source": [
    "result=decision_tree(data)\n",
    "result"
   ]
  },
  {
   "cell_type": "code",
   "execution_count": 116,
   "metadata": {},
   "outputs": [
    {
     "data": {
      "text/plain": [
       "['no', 'yes', 'yes', 'yes', 'no', 'yes', 'no', 'yes', 'yes']"
      ]
     },
     "execution_count": 116,
     "metadata": {},
     "output_type": "execute_result"
    }
   ],
   "source": [
    "def predction(result,test):\n",
    "    while(1):\n",
    "        key=list(result.keys())\n",
    "        p=result[key[0]]\n",
    "        v=test[key].values[0]\n",
    "        result=p[v[0]]\n",
    "        if type(result)==str:\n",
    "            return result\n",
    "    \n",
    "      \n",
    "def allpredction(result,test):\n",
    "    r=[]\n",
    "    for i in range(len(test)):\n",
    "        r.append(predction(result,test.iloc[i:i+1]))\n",
    "    return r\n",
    "\n",
    "test=data.iloc[1:10] \n",
    "allpredction(result,test)\n"
   ]
  },
  {
   "cell_type": "code",
   "execution_count": null,
   "metadata": {},
   "outputs": [],
   "source": []
  }
 ],
 "metadata": {
  "kernelspec": {
   "display_name": "Python 3",
   "language": "python",
   "name": "python3"
  },
  "language_info": {
   "codemirror_mode": {
    "name": "ipython",
    "version": 3
   },
   "file_extension": ".py",
   "mimetype": "text/x-python",
   "name": "python",
   "nbconvert_exporter": "python",
   "pygments_lexer": "ipython3",
   "version": "3.7.4"
  }
 },
 "nbformat": 4,
 "nbformat_minor": 2
}
