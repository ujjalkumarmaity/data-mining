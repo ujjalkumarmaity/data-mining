{
 "cells": [
  {
   "cell_type": "code",
   "execution_count": 2,
   "metadata": {},
   "outputs": [],
   "source": [
    "import pandas as pd\n",
    "import numpy as np\n",
    "import math\n",
    "import random as rd\n",
    "import matplotlib.pyplot as plt"
   ]
  },
  {
   "cell_type": "code",
   "execution_count": 4,
   "metadata": {
    "scrolled": true
   },
   "outputs": [
    {
     "data": {
      "text/html": [
       "<div>\n",
       "<style scoped>\n",
       "    .dataframe tbody tr th:only-of-type {\n",
       "        vertical-align: middle;\n",
       "    }\n",
       "\n",
       "    .dataframe tbody tr th {\n",
       "        vertical-align: top;\n",
       "    }\n",
       "\n",
       "    .dataframe thead th {\n",
       "        text-align: right;\n",
       "    }\n",
       "</style>\n",
       "<table border=\"1\" class=\"dataframe\">\n",
       "  <thead>\n",
       "    <tr style=\"text-align: right;\">\n",
       "      <th></th>\n",
       "      <th>col1</th>\n",
       "      <th>col2</th>\n",
       "    </tr>\n",
       "  </thead>\n",
       "  <tbody>\n",
       "    <tr>\n",
       "      <th>0</th>\n",
       "      <td>60</td>\n",
       "      <td>77</td>\n",
       "    </tr>\n",
       "    <tr>\n",
       "      <th>1</th>\n",
       "      <td>90</td>\n",
       "      <td>13</td>\n",
       "    </tr>\n",
       "    <tr>\n",
       "      <th>2</th>\n",
       "      <td>52</td>\n",
       "      <td>10</td>\n",
       "    </tr>\n",
       "    <tr>\n",
       "      <th>3</th>\n",
       "      <td>62</td>\n",
       "      <td>87</td>\n",
       "    </tr>\n",
       "    <tr>\n",
       "      <th>4</th>\n",
       "      <td>60</td>\n",
       "      <td>40</td>\n",
       "    </tr>\n",
       "  </tbody>\n",
       "</table>\n",
       "</div>"
      ],
      "text/plain": [
       "   col1  col2\n",
       "0    60    77\n",
       "1    90    13\n",
       "2    52    10\n",
       "3    62    87\n",
       "4    60    40"
      ]
     },
     "execution_count": 4,
     "metadata": {},
     "output_type": "execute_result"
    }
   ],
   "source": [
    "data=[]\n",
    "for i in range(200):\n",
    "    data.append(np.random.randint(low=1, high=100, size=2))\n",
    "x_data = pd.DataFrame(data)\n",
    "x_data.columns =['col1','col2']\n",
    "x_data.head()"
   ]
  },
  {
   "cell_type": "code",
   "execution_count": 13,
   "metadata": {},
   "outputs": [
    {
     "name": "stdout",
     "output_type": "stream",
     "text": [
      "enter no of cluster4\n",
      "enter value of iteration15\n"
     ]
    }
   ],
   "source": [
    "k=int(input('enter no of cluster')) \n",
    "t=int(input('enter value of iteration'))"
   ]
  },
  {
   "cell_type": "code",
   "execution_count": 14,
   "metadata": {
    "scrolled": true
   },
   "outputs": [],
   "source": [
    "#initial seed point of kmeans\n",
    "initial= rd.sample([i for i in range(len(data))], k)"
   ]
  },
  {
   "cell_type": "code",
   "execution_count": 15,
   "metadata": {},
   "outputs": [],
   "source": [
    "##Distance matrix\n",
    "def distance(k,d):\n",
    "    dist=[]\n",
    "    for i in k:\n",
    "        p=[]\n",
    "        for j in range(len(d)):\n",
    "            q=d.iloc[j:j+1].values\n",
    "            q=q[0]\n",
    "            dis=0\n",
    "            for l in range(len(q)):\n",
    "                dis=dis+(float(i[l])-float(q[l]))**2\n",
    "            p.append(math.sqrt(dis))\n",
    "        dist.append(p)\n",
    "    return dist"
   ]
  },
  {
   "cell_type": "code",
   "execution_count": 16,
   "metadata": {
    "scrolled": true
   },
   "outputs": [],
   "source": [
    "#center of the initial cluster\n",
    "initial_p=[]\n",
    "for i in initial:\n",
    "    p=x_data.iloc[i:i+1].values\n",
    "    p=p[0]\n",
    "    initial_p.append(p)\n",
    "\n",
    "dis_matrix=distance(initial_p,x_data)\n",
    "for l in range(t):\n",
    "    new_k=[] \n",
    "    index=[]\n",
    "    for i in range(len(dis_matrix[0])):\n",
    "        temp=[]\n",
    "        for j in range(len(dis_matrix)):\n",
    "            temp.append(dis_matrix[j][i])\n",
    "        index.append(temp.index(min(temp)))\n",
    "    for i in range(k):\n",
    "        count=0\n",
    "        su=[]\n",
    "        su=np.array([0 for k in range(len(x_data.columns))])\n",
    "        for j in range(len(x_data)):\n",
    "            if index[j]==i:\n",
    "                count+=1\n",
    "                loc=x_data.iloc[j:j+1].values\n",
    "                su=np.add(su,np.array(loc[0]))\n",
    "        su=su/count\n",
    "        new_k.append(su)\n",
    "    dis_matrix=distance(new_k,x_data)"
   ]
  },
  {
   "cell_type": "code",
   "execution_count": 17,
   "metadata": {},
   "outputs": [
    {
     "data": {
      "image/png": "[encoded data removed]",
      "text/plain": [
       "<Figure size 432x288 with 1 Axes>"
      ]
     },
     "metadata": {
      "needs_background": "light"
     },
     "output_type": "display_data"
    }
   ],
   "source": [
    "\n",
    "for i in range(len(data)):\n",
    "    x=x_data.iloc[i:i+1,0:1].values\n",
    "    y=x_data.iloc[i:i+1,1:2].values\n",
    "    plt.scatter(x[0], y[0], c='r', label='data')\n",
    "plt.show()"
   ]
  },
  {
   "cell_type": "code",
   "execution_count": 18,
   "metadata": {
    "scrolled": true
   },
   "outputs": [
    {
     "data": {
      "image/png": "[encoded data removed]",
      "text/plain": [
       "<Figure size 432x288 with 1 Axes>"
      ]
     },
     "metadata": {
      "needs_background": "light"
     },
     "output_type": "display_data"
    }
   ],
   "source": [
    "color=['red','blue','yellow','green','cyan','purple']\n",
    "for i in range(len(data)):\n",
    "    x=x_data.iloc[i:i+1,0:1].values\n",
    "    y=x_data.iloc[i:i+1,1:2].values\n",
    "    plt.scatter(x[0], y[0], color=color[index[i]])\n",
    "plt.show()"
   ]
  },
  {
   "cell_type": "code",
   "execution_count": null,
   "metadata": {},
   "outputs": [],
   "source": []
  },
  {
   "cell_type": "code",
   "execution_count": null,
   "metadata": {},
   "outputs": [],
   "source": []
  },
  {
   "cell_type": "code",
   "execution_count": null,
   "metadata": {},
   "outputs": [],
   "source": []
  }
 ],
 "metadata": {
  "kernelspec": {
   "display_name": "Python 3",
   "language": "python",
   "name": "python3"
  },
  "language_info": {
   "codemirror_mode": {
    "name": "ipython",
    "version": 3
   },
   "file_extension": ".py",
   "mimetype": "text/x-python",
   "name": "python",
   "nbconvert_exporter": "python",
   "pygments_lexer": "ipython3",
   "version": "3.7.3"
  }
 },
 "nbformat": 4,
 "nbformat_minor": 2
}
