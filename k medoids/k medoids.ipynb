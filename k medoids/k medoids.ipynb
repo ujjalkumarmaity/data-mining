{
 "cells": [
  {
   "cell_type": "code",
   "execution_count": 14,
   "metadata": {},
   "outputs": [],
   "source": [
    "import pandas as pd\n",
    "import numpy as np\n",
    "import matplotlib.pyplot as plt"
   ]
  },
  {
   "cell_type": "code",
   "execution_count": 15,
   "metadata": {},
   "outputs": [
    {
     "data": {
      "text/html": [
       "<div>\n",
       "<style scoped>\n",
       "    .dataframe tbody tr th:only-of-type {\n",
       "        vertical-align: middle;\n",
       "    }\n",
       "\n",
       "    .dataframe tbody tr th {\n",
       "        vertical-align: top;\n",
       "    }\n",
       "\n",
       "    .dataframe thead th {\n",
       "        text-align: right;\n",
       "    }\n",
       "</style>\n",
       "<table border=\"1\" class=\"dataframe\">\n",
       "  <thead>\n",
       "    <tr style=\"text-align: right;\">\n",
       "      <th></th>\n",
       "      <th>col1</th>\n",
       "      <th>col2</th>\n",
       "    </tr>\n",
       "  </thead>\n",
       "  <tbody>\n",
       "    <tr>\n",
       "      <td>0</td>\n",
       "      <td>58</td>\n",
       "      <td>88</td>\n",
       "    </tr>\n",
       "    <tr>\n",
       "      <td>1</td>\n",
       "      <td>84</td>\n",
       "      <td>34</td>\n",
       "    </tr>\n",
       "    <tr>\n",
       "      <td>2</td>\n",
       "      <td>4</td>\n",
       "      <td>56</td>\n",
       "    </tr>\n",
       "    <tr>\n",
       "      <td>3</td>\n",
       "      <td>14</td>\n",
       "      <td>86</td>\n",
       "    </tr>\n",
       "    <tr>\n",
       "      <td>4</td>\n",
       "      <td>11</td>\n",
       "      <td>75</td>\n",
       "    </tr>\n",
       "  </tbody>\n",
       "</table>\n",
       "</div>"
      ],
      "text/plain": [
       "   col1  col2\n",
       "0    58    88\n",
       "1    84    34\n",
       "2     4    56\n",
       "3    14    86\n",
       "4    11    75"
      ]
     },
     "execution_count": 15,
     "metadata": {},
     "output_type": "execute_result"
    }
   ],
   "source": [
    "\n",
    "data=[]\n",
    "for i in range(200):\n",
    "    data.append(np.random.randint(low=1, high=100, size=2))\n",
    "data = pd.DataFrame(data)\n",
    "data.columns =['col1','col2']\n",
    "data.head()"
   ]
  },
  {
   "cell_type": "code",
   "execution_count": 16,
   "metadata": {},
   "outputs": [
    {
     "name": "stdout",
     "output_type": "stream",
     "text": [
      "enter value of k3\n",
      "enter value of t25\n"
     ]
    }
   ],
   "source": [
    "k=int(input('enter value of k'))\n",
    "t=int(input('enter value of t'))"
   ]
  },
  {
   "cell_type": "code",
   "execution_count": 17,
   "metadata": {},
   "outputs": [],
   "source": [
    "# intial point\n",
    "initial= rd.sample([i for i in range(len(data)-1)], k)\n",
    "rand_point=[]"
   ]
  },
  {
   "cell_type": "code",
   "execution_count": 18,
   "metadata": {},
   "outputs": [],
   "source": [
    "# distance between two point\n",
    "def distance(kmid,data):  \n",
    "    dist=[]\n",
    "    for i in kmid:\n",
    "        q=[]\n",
    "        for j in range(len(data)):\n",
    "            p=data.iloc[j:j+1].values\n",
    "            p=p[0]\n",
    "            dis=0            \n",
    "            for l in range(len(p)):\n",
    "                dis=dis+abs(float(i[l]-p[l]))\n",
    "            q.append(dis)\n",
    "        dist.append(q)\n",
    "    return dist\n",
    "\n",
    "def cost(distance):\n",
    "    index=[]\n",
    "    cost=[]\n",
    "    for i in range(len(dis_matrix[0])):\n",
    "        temp=[]\n",
    "        for j in range(len(dis_matrix)):\n",
    "            temp.append(dis_matrix[j][i])\n",
    "        index.append(temp.index(min(temp)))\n",
    "        cost.append(min(temp))\n",
    "    return cost,index\n",
    "\n",
    "    "
   ]
  },
  {
   "cell_type": "code",
   "execution_count": 19,
   "metadata": {
    "scrolled": false
   },
   "outputs": [
    {
     "name": "stdout",
     "output_type": "stream",
     "text": [
      "cluster [1, 2, 0, 0, 0, 0, 1, 2, 0, 1, 1, 1, 2, 2, 0, 0, 0, 2, 0, 1, 2, 0, 0, 1, 0, 1, 2, 2, 2, 0, 1, 1, 1, 0, 1, 0, 1, 2, 0, 1, 1, 0, 1, 2, 2, 0, 1, 1, 0, 0, 2, 0, 0, 1, 0, 1, 0, 1, 0, 0, 1, 0, 1, 1, 0, 1, 0, 1, 1, 1, 1, 1, 1, 0, 1, 2, 0, 1, 0, 1, 1, 1, 2, 1, 2, 1, 1, 1, 2, 0, 1, 2, 2, 2, 1, 1, 1, 1, 0, 1, 0, 2, 1, 1, 0, 0, 2, 2, 0, 1, 1, 2, 2, 1, 1, 0, 0, 2, 2, 1, 0, 2, 0, 1, 1, 0, 1, 1, 1, 2, 1, 1, 1, 2, 0, 2, 2, 0, 1, 2, 1, 1, 1, 0, 1, 1, 0, 0, 1, 0, 0, 0, 0, 2, 0, 2, 0, 2, 2, 2, 1, 2, 0, 1, 1, 1, 2, 2, 1, 1, 0, 1, 1, 1, 2, 2, 2, 0, 2, 0, 1, 0, 1, 0, 1, 0, 1, 0, 1, 1, 1, 0, 1, 0, 1, 2, 0, 1, 0, 0]\n",
      "midpoint [array([18, 84], dtype=int64), array([41, 53], dtype=int64), array([11, 75], dtype=int64)]\n"
     ]
    }
   ],
   "source": [
    "cluster=[]\n",
    "for i in initial:\n",
    "    p=data.iloc[i:i+1].values\n",
    "    p=p[0]\n",
    "    cluster.append(p)\n",
    "dis_matrix=distance(cluster,data)\n",
    "cost_v,index=cost(dis_matrix)\n",
    "\n",
    "for i in range(t):\n",
    "    random_point=rd.randint(0,len(data)-1)\n",
    "    random_choice=rd.randint(0,k-1)\n",
    "    new_data=data.iloc[random_point:random_point+1].values\n",
    "    new_data=new_data[0]\n",
    "    cluster[random_choice]=new_data\n",
    "    dis_matrix=distance(cluster,data)\n",
    "    cost_v1,index1=cost(dis_matrix)\n",
    "    if sum(np.subtract(np.array(cost_v1),np.array(cost_v)))<0:\n",
    "        cost_v=np.copy(np.array(cost_v1))\n",
    "        \n",
    "print('cluster',index)\n",
    "print(\"midpoint\",cluster)"
   ]
  },
  {
   "cell_type": "code",
   "execution_count": 20,
   "metadata": {},
   "outputs": [
    {
     "data": {
      "text/plain": [
       "3"
      ]
     },
     "execution_count": 20,
     "metadata": {},
     "output_type": "execute_result"
    }
   ],
   "source": [
    "len(dis_matrix)"
   ]
  },
  {
   "cell_type": "code",
   "execution_count": 21,
   "metadata": {},
   "outputs": [
    {
     "data": {
      "image/png": "[encoded data removed]",
      "text/plain": [
       "<Figure size 432x288 with 1 Axes>"
      ]
     },
     "metadata": {
      "needs_background": "light"
     },
     "output_type": "display_data"
    }
   ],
   "source": [
    "\n",
    "for i in range(len(data)):\n",
    "    x=data.iloc[i:i+1,0:1].values\n",
    "    y=data.iloc[i:i+1,1:2].values\n",
    "    plt.scatter(x[0], y[0], c='r', label='data')\n",
    "plt.show()"
   ]
  },
  {
   "cell_type": "code",
   "execution_count": 22,
   "metadata": {},
   "outputs": [
    {
     "data": {
      "image/png": "[encoded data removed]",
      "text/plain": [
       "<Figure size 432x288 with 1 Axes>"
      ]
     },
     "metadata": {
      "needs_background": "light"
     },
     "output_type": "display_data"
    }
   ],
   "source": [
    "color=['red','blue','yellow','green','cyan','purple']\n",
    "for i in range(len(data)):\n",
    "    x=data.iloc[i:i+1,0:1].values\n",
    "    y=data.iloc[i:i+1,1:2].values\n",
    "    plt.scatter(x[0], y[0], color=color[index[i]])\n",
    "plt.show()"
   ]
  },
  {
   "cell_type": "code",
   "execution_count": null,
   "metadata": {},
   "outputs": [],
   "source": []
  }
 ],
 "metadata": {
  "kernelspec": {
   "display_name": "Python 3",
   "language": "python",
   "name": "python3"
  },
  "language_info": {
   "codemirror_mode": {
    "name": "ipython",
    "version": 3
   },
   "file_extension": ".py",
   "mimetype": "text/x-python",
   "name": "python",
   "nbconvert_exporter": "python",
   "pygments_lexer": "ipython3",
   "version": "3.7.4"
  }
 },
 "nbformat": 4,
 "nbformat_minor": 2
}
