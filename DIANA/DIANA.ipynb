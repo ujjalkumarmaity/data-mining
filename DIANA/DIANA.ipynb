{
 "cells": [
  {
   "cell_type": "code",
   "execution_count": 2,
   "metadata": {},
   "outputs": [],
   "source": [
    "import pandas as pd\n",
    "import numpy as np\n",
    "import math\n",
    "import matplotlib.pyplot as plt"
   ]
  },
  {
   "cell_type": "code",
   "execution_count": 45,
   "metadata": {
    "scrolled": true
   },
   "outputs": [
    {
     "data": {
      "text/html": [
       "<div>\n",
       "<style scoped>\n",
       "    .dataframe tbody tr th:only-of-type {\n",
       "        vertical-align: middle;\n",
       "    }\n",
       "\n",
       "    .dataframe tbody tr th {\n",
       "        vertical-align: top;\n",
       "    }\n",
       "\n",
       "    .dataframe thead th {\n",
       "        text-align: right;\n",
       "    }\n",
       "</style>\n",
       "<table border=\"1\" class=\"dataframe\">\n",
       "  <thead>\n",
       "    <tr style=\"text-align: right;\">\n",
       "      <th></th>\n",
       "      <th>col1</th>\n",
       "      <th>col2</th>\n",
       "    </tr>\n",
       "  </thead>\n",
       "  <tbody>\n",
       "    <tr>\n",
       "      <th>0</th>\n",
       "      <td>9</td>\n",
       "      <td>2</td>\n",
       "    </tr>\n",
       "    <tr>\n",
       "      <th>1</th>\n",
       "      <td>9</td>\n",
       "      <td>5</td>\n",
       "    </tr>\n",
       "    <tr>\n",
       "      <th>2</th>\n",
       "      <td>8</td>\n",
       "      <td>2</td>\n",
       "    </tr>\n",
       "    <tr>\n",
       "      <th>3</th>\n",
       "      <td>1</td>\n",
       "      <td>7</td>\n",
       "    </tr>\n",
       "    <tr>\n",
       "      <th>4</th>\n",
       "      <td>3</td>\n",
       "      <td>2</td>\n",
       "    </tr>\n",
       "  </tbody>\n",
       "</table>\n",
       "</div>"
      ],
      "text/plain": [
       "   col1  col2\n",
       "0     9     2\n",
       "1     9     5\n",
       "2     8     2\n",
       "3     1     7\n",
       "4     3     2"
      ]
     },
     "execution_count": 45,
     "metadata": {},
     "output_type": "execute_result"
    }
   ],
   "source": [
    "train=[]\n",
    "for i in range(50):\n",
    "    train.append(np.random.randint(low=1, high=10, size=2))\n",
    "train = pd.DataFrame(train)\n",
    "train.columns =['col1','col2']\n",
    "train.head()"
   ]
  },
  {
   "cell_type": "code",
   "execution_count": 46,
   "metadata": {},
   "outputs": [],
   "source": [
    "#no of cluster\n",
    "c=2"
   ]
  },
  {
   "cell_type": "code",
   "execution_count": 47,
   "metadata": {},
   "outputs": [],
   "source": [
    "def distance(x1,x2):\n",
    "    sum1=0\n",
    "    for i in range(len(x1)):\n",
    "        sum1+=(x1[i]-x2[i])**2\n",
    "    return math.sqrt(sum1)"
   ]
  },
  {
   "cell_type": "code",
   "execution_count": 48,
   "metadata": {},
   "outputs": [
    {
     "data": {
      "text/plain": [
       "[25]"
      ]
     },
     "execution_count": 48,
     "metadata": {},
     "output_type": "execute_result"
    }
   ],
   "source": [
    "#find most dissimilar point to other objects in intial cluster.\n",
    "p=train.values\n",
    "p=p.tolist()\n",
    "ind=list(range(len(p)))\n",
    "cl=[]\n",
    "cost=[]\n",
    "for i in ind:\n",
    "    summ=0\n",
    "    for j in range(len(p)):\n",
    "        summ+=distance(p[i],p[j])\n",
    "    cost.append(summ/len(ind))\n",
    "cl.append(cost.index(max(cost)))\n",
    "cl"
   ]
  },
  {
   "cell_type": "code",
   "execution_count": 49,
   "metadata": {},
   "outputs": [
    {
     "name": "stdout",
     "output_type": "stream",
     "text": [
      "[25, 0, 1, 2, 8, 10, 11, 13, 15, 18, 32, 33, 37, 39, 41, 49]\n"
     ]
    }
   ],
   "source": [
    "# c2 and cl two cluster, main is a list. that contain all the index of data set\n",
    "p=train.values\n",
    "p=p.tolist()\n",
    "ind=list(range(len(p)))\n",
    "main=list(set(ind)-set(cl))\n",
    "c2=[]\n",
    "for i in main:\n",
    "    summ=0\n",
    "    for j in main:\n",
    "        if i!=j:\n",
    "            summ+=distance(p[i],p[j])\n",
    "    cost_r=summ/(len(main))\n",
    "    dis=0\n",
    "    for k in cl:\n",
    "        dis+=distance(p[i],p[k])\n",
    "    cost_c=dis/len(cl)\n",
    "    if cost_c<cost_r:\n",
    "        cl.append(i)\n",
    "    else:\n",
    "        c2.append(i)\n",
    "print(cl)"
   ]
  },
  {
   "cell_type": "code",
   "execution_count": 50,
   "metadata": {},
   "outputs": [
    {
     "data": {
      "image/png": "[encoded data removed]",
      "text/plain": [
       "<Figure size 432x288 with 1 Axes>"
      ]
     },
     "metadata": {
      "needs_background": "light"
     },
     "output_type": "display_data"
    }
   ],
   "source": [
    "for i in range(len(train)):\n",
    "    x=train.iloc[i:i+1,0:1].values\n",
    "    y=train.iloc[i:i+1,1:2].values\n",
    "    plt.scatter(x[0], y[0], c='blue', label='data')\n",
    "plt.show()"
   ]
  },
  {
   "cell_type": "code",
   "execution_count": 51,
   "metadata": {
    "scrolled": false
   },
   "outputs": [
    {
     "data": {
      "image/png": "[encoded data removed]",
      "text/plain": [
       "<Figure size 432x288 with 1 Axes>"
      ]
     },
     "metadata": {
      "needs_background": "light"
     },
     "output_type": "display_data"
    }
   ],
   "source": [
    "for i in cl:\n",
    "    plt.scatter(p[i][0], p[i][1], c='r', label='data')\n",
    "\n",
    "for i in c2:\n",
    "    plt.scatter(p[i][0], p[i][1], c='blue', label='data')\n",
    "plt.show()"
   ]
  },
  {
   "cell_type": "code",
   "execution_count": null,
   "metadata": {},
   "outputs": [],
   "source": []
  },
  {
   "cell_type": "code",
   "execution_count": null,
   "metadata": {},
   "outputs": [],
   "source": []
  },
  {
   "cell_type": "code",
   "execution_count": null,
   "metadata": {},
   "outputs": [],
   "source": []
  }
 ],
 "metadata": {
  "kernelspec": {
   "display_name": "Python 3",
   "language": "python",
   "name": "python3"
  },
  "language_info": {
   "codemirror_mode": {
    "name": "ipython",
    "version": 3
   },
   "file_extension": ".py",
   "mimetype": "text/x-python",
   "name": "python",
   "nbconvert_exporter": "python",
   "pygments_lexer": "ipython3",
   "version": "3.7.3"
  }
 },
 "nbformat": 4,
 "nbformat_minor": 2
}
