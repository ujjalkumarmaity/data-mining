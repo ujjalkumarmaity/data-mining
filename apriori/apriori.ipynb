{
 "cells": [
  {
   "cell_type": "code",
   "execution_count": 1,
   "metadata": {},
   "outputs": [],
   "source": [
    "import pandas as pd\n",
    "import numpy as np\n",
    "import itertools"
   ]
  },
  {
   "cell_type": "code",
   "execution_count": 2,
   "metadata": {},
   "outputs": [
    {
     "data": {
      "text/html": [
       "<div>\n",
       "<style scoped>\n",
       "    .dataframe tbody tr th:only-of-type {\n",
       "        vertical-align: middle;\n",
       "    }\n",
       "\n",
       "    .dataframe tbody tr th {\n",
       "        vertical-align: top;\n",
       "    }\n",
       "\n",
       "    .dataframe thead th {\n",
       "        text-align: right;\n",
       "    }\n",
       "</style>\n",
       "<table border=\"1\" class=\"dataframe\">\n",
       "  <thead>\n",
       "    <tr style=\"text-align: right;\">\n",
       "      <th></th>\n",
       "      <th>tid</th>\n",
       "      <th>item</th>\n",
       "    </tr>\n",
       "  </thead>\n",
       "  <tbody>\n",
       "    <tr>\n",
       "      <td>0</td>\n",
       "      <td>100</td>\n",
       "      <td>1 3 4</td>\n",
       "    </tr>\n",
       "    <tr>\n",
       "      <td>1</td>\n",
       "      <td>101</td>\n",
       "      <td>2 3 5</td>\n",
       "    </tr>\n",
       "    <tr>\n",
       "      <td>2</td>\n",
       "      <td>102</td>\n",
       "      <td>1 2 3 5</td>\n",
       "    </tr>\n",
       "    <tr>\n",
       "      <td>3</td>\n",
       "      <td>103</td>\n",
       "      <td>2 5</td>\n",
       "    </tr>\n",
       "    <tr>\n",
       "      <td>4</td>\n",
       "      <td>104</td>\n",
       "      <td>1 2 3 4</td>\n",
       "    </tr>\n",
       "  </tbody>\n",
       "</table>\n",
       "</div>"
      ],
      "text/plain": [
       "   tid     item\n",
       "0  100    1 3 4\n",
       "1  101    2 3 5\n",
       "2  102  1 2 3 5\n",
       "3  103      2 5\n",
       "4  104  1 2 3 4"
      ]
     },
     "execution_count": 2,
     "metadata": {},
     "output_type": "execute_result"
    }
   ],
   "source": [
    "data=pd.read_csv('aprior.csv')\n",
    "data.head()"
   ]
  },
  {
   "cell_type": "code",
   "execution_count": 3,
   "metadata": {},
   "outputs": [
    {
     "data": {
      "text/plain": [
       "2"
      ]
     },
     "execution_count": 3,
     "metadata": {},
     "output_type": "execute_result"
    }
   ],
   "source": [
    "#enter minimum support\n",
    "min_support=50  #input \n",
    "no_of_item=int((min_support/100)*len(data))\n",
    "no_of_item"
   ]
  },
  {
   "cell_type": "code",
   "execution_count": 4,
   "metadata": {},
   "outputs": [],
   "source": [
    "#convert all tranaction element to list\n",
    "column=data.columns\n",
    "d=data[column[1]]\n",
    "list_data=[]\n",
    "for i in d:\n",
    "    p=[]\n",
    "    for j in range(len(i)):\n",
    "        if i[j]==' ' or i[j]==',':\n",
    "            continue\n",
    "        p.append(i[j])\n",
    "    list_data.append(p)\n",
    "\n",
    "\n",
    "def c1_matrix(data):\n",
    "    unique_element=[]\n",
    "    for i in data:\n",
    "        for j in i:\n",
    "            if j not in unique_element:\n",
    "                unique_element.append(j)\n",
    "    unique_element.sort()\n",
    "    c1=[]\n",
    "    for i in unique_element:\n",
    "        c1.append([i])\n",
    "    return c1\n",
    "\n",
    "c1=c1_matrix(list_data)\n"
   ]
  },
  {
   "cell_type": "code",
   "execution_count": null,
   "metadata": {},
   "outputs": [],
   "source": []
  },
  {
   "cell_type": "code",
   "execution_count": 5,
   "metadata": {},
   "outputs": [],
   "source": [
    "#calculate c_i\n",
    "def calculate_ci(l_i): \n",
    "    length=len(l_i[0])\n",
    "    c_i=[]\n",
    "    if length==1:\n",
    "        for i in range(len(l_i)-1):\n",
    "            for j in range(i+1,len(l_i)):\n",
    "                p=l_i[i]\n",
    "                q=l_i[j]\n",
    "                c_i.append([p[0],q[0]])\n",
    "        \n",
    "        return c_i\n",
    "    else:\n",
    "        for i in l_i:\n",
    "            union=[]\n",
    "            for j in l_i:\n",
    "                if i!=j:\n",
    "                    p=set(i)\n",
    "                    q=set(j)\n",
    "                    common=p&q\n",
    "                    common_len=len(common)\n",
    "                    if common_len==length-1:\n",
    "                        if i[0]==j[0]:\n",
    "                            union=list(q.union(p))\n",
    "                            p=union.sort()\n",
    "                            \n",
    "                            p=list(itertools.combinations(union, length))                            \n",
    "                            count=0\n",
    "                            for k in p:\n",
    "                                if list(k) in l_i:\n",
    "                                    count+=1\n",
    "                            if count==len(p):\n",
    "                                if union not in c_i:\n",
    "                                    c_i.append(union)\n",
    "                                    \n",
    "        return c_i\n",
    "               \n",
    "# calculate c_i support\n",
    "def ci_support(c_i,data):\n",
    "    support=[]\n",
    "    #print(c_i)\n",
    "    for i in c_i:\n",
    "        p=0\n",
    "        for j in data:\n",
    "            #print(i,j)\n",
    "            c=set(i)&set(j)\n",
    "            #print(c)\n",
    "            if len(c)==len(i):\n",
    "                p+=1\n",
    "        support.append(p)\n",
    "    return support\n"
   ]
  },
  {
   "cell_type": "code",
   "execution_count": 6,
   "metadata": {},
   "outputs": [],
   "source": [
    "def calculate_l(c_i,c_value):\n",
    "    l_matrix=[]\n",
    "    l_value=[]\n",
    "    for i in range(len(c_value)):\n",
    "        if int(c_value[i])>=no_of_item:\n",
    "            l_matrix.append(c_i[i])\n",
    "            l_value.append(c_value[i])\n",
    "    return l_matrix,l_value\n",
    "\n",
    "#calculate_l(ci_matrix,support)"
   ]
  },
  {
   "cell_type": "code",
   "execution_count": 7,
   "metadata": {
    "scrolled": false
   },
   "outputs": [
    {
     "name": "stdout",
     "output_type": "stream",
     "text": [
      "[['1', '2', '3'], ['1', '3', '4'], ['2', '3', '5']]\n"
     ]
    }
   ],
   "source": [
    "def apprior(data):\n",
    "    total_li=[]\n",
    "    c1=c1_matrix(data)\n",
    "    c1_support=ci_support(c1,data)\n",
    "    l1,l1_support=calculate_l(c1,c1_support)\n",
    "    #print(l1,l1_support)\n",
    "    while True:\n",
    "        ci=calculate_ci(l1)\n",
    "        ci_suppor=ci_support(ci,data)    \n",
    "        l1,li_support=calculate_l(ci,ci_suppor)\n",
    "        if len(l1)==0:\n",
    "            break\n",
    "        total_li.append(l1)\n",
    "\n",
    "    return total_li\n",
    "\n",
    "li_element=apprior(list_data)\n",
    "print(li_element[-1])"
   ]
  },
  {
   "cell_type": "code",
   "execution_count": 8,
   "metadata": {},
   "outputs": [
    {
     "name": "stdout",
     "output_type": "stream",
     "text": [
      "('2', '3') ==> ['1']\n",
      "('1',) ==> ['4', '3']\n",
      "('3',) ==> ['4', '1']\n",
      "('1', '3') ==> ['4']\n",
      "('3', '4') ==> ['1']\n",
      "('2',) ==> ['5', '3']\n",
      "('3',) ==> ['5', '2']\n",
      "('2', '3') ==> ['5']\n"
     ]
    }
   ],
   "source": [
    "def subset(x):\n",
    "    sub_set=[]\n",
    "    p=[]\n",
    "    for i in range(1,len(x)):\n",
    "        p+=list(itertools.combinations(x,i))\n",
    "    sub_set.append(p)\n",
    "    return sub_set\n",
    "    \n",
    "\n",
    "def rule(li,confidance):\n",
    "    ap_rule=[]\n",
    "    for i in li:\n",
    "        sub_set=subset(i)\n",
    "        sub_set=sub_set[0]\n",
    "        for k in range(len(sub_set)):\n",
    "            j=sub_set[k]\n",
    "            i_c=list(set(i)^set(j))\n",
    "            support_c=ci_support([i],list_data)\n",
    "            support_ci=ci_support(i_c,list_data)\n",
    "            if support_c[0]/support_ci[0]>confidance:\n",
    "                ap_rule.append([j,i_c])\n",
    "                print(j,'==>',i_c)\n",
    "    return ap_rule\n",
    "confidance=50\n",
    "rule_generated=rule(li_element[-1],confidance/100)"
   ]
  },
  {
   "cell_type": "code",
   "execution_count": null,
   "metadata": {},
   "outputs": [],
   "source": []
  },
  {
   "cell_type": "code",
   "execution_count": null,
   "metadata": {},
   "outputs": [],
   "source": []
  }
 ],
 "metadata": {
  "kernelspec": {
   "display_name": "Python 3",
   "language": "python",
   "name": "python3"
  },
  "language_info": {
   "codemirror_mode": {
    "name": "ipython",
    "version": 3
   },
   "file_extension": ".py",
   "mimetype": "text/x-python",
   "name": "python",
   "nbconvert_exporter": "python",
   "pygments_lexer": "ipython3",
   "version": "3.7.4"
  }
 },
 "nbformat": 4,
 "nbformat_minor": 2
}
